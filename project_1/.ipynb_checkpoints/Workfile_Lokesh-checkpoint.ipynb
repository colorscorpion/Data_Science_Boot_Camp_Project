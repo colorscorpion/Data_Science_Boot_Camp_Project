{
 "cells": [
  {
   "cell_type": "code",
   "execution_count": 1,
   "metadata": {
    "collapsed": false
   },
   "outputs": [],
   "source": [
    "import os\n",
    "import json\n",
    "import pandas as pd\n",
    "\n",
    "# Data is in the data directory in project_1 folder\n",
    "DATA_DIR_MOV = os.path.join('data', 'boxofficemojo')\n",
    "\n",
    "# 'listdir' function from 'os'  gives you a list of all\n",
    "target_file_names_Mov = os.listdir(DATA_DIR_MOV)\n",
    "\n",
    "movie = list()\n",
    "for files in target_file_names_Mov:\n",
    "    target_file_path = os.path.join(DATA_DIR_MOV, files)\n",
    "    with open(target_file_path,'r') as target_file:\n",
    "        movie.append(json.load(target_file))\n",
    "        \n",
    "\n",
    "movies_df = pd.DataFrame(movie)        "
   ]
  },
  {
   "cell_type": "code",
   "execution_count": 2,
   "metadata": {
    "collapsed": false
   },
   "outputs": [
    {
     "data": {
      "text/plain": [
       "3728"
      ]
     },
     "execution_count": 2,
     "metadata": {},
     "output_type": "execute_result"
    }
   ],
   "source": [
    "len(movies_df)"
   ]
  },
  {
   "cell_type": "code",
   "execution_count": 3,
   "metadata": {
    "collapsed": false
   },
   "outputs": [],
   "source": [
    "DATA_DIR_CRI = os.path.join('data', 'metacritic')\n",
    "\n",
    "# 'listdir' function from 'os'  gives you a list of all\n",
    "target_file_names_Cri = os.listdir(DATA_DIR_CRI)\n",
    "\n",
    "critics = list()\n",
    "for files in target_file_names_Cri:\n",
    "    target_file_path = os.path.join(DATA_DIR_CRI, files)\n",
    "    with open(target_file_path,'r') as target_file:\n",
    "        critics.append(json.load(target_file))\n",
    "        "
   ]
  },
  {
   "cell_type": "code",
   "execution_count": 5,
   "metadata": {
    "collapsed": false
   },
   "outputs": [
    {
     "name": "stdout",
     "output_type": "stream",
     "text": [
      "1251 {u'unable to retrieve': []}\n",
      "4439 [u'/movie/11-flowers']\n",
      "4765 {u'unable to retrieve': [u'/movie/once-upon-a-time-in-mexico', u'/movie/serpico']}\n",
      "4766 []\n",
      "2\n"
     ]
    }
   ],
   "source": [
    "list_key=critics[1].keys()\n",
    "\n",
    "count = 0            \n",
    "for i,crt in enumerate(critics):\n",
    "    try:\n",
    "        if(list_key != crt.keys()):\n",
    "            count += 1\n",
    "            print i,crt\n",
    "    except AttributeError:\n",
    "        count=count\n",
    "        print i,crt\n",
    "\n",
    "print count"
   ]
  },
  {
   "cell_type": "code",
   "execution_count": 7,
   "metadata": {
    "collapsed": false
   },
   "outputs": [],
   "source": [
    "# Removing Attribute Error rows which is not a dictionary\n",
    "# Removing rows which doesn't have all keys\n",
    "    \n",
    "list_index = [1251,4439,4765,4766]\n",
    "\n",
    "critics = [j for i,j in enumerate(critics) if i not in list_index]"
   ]
  },
  {
   "cell_type": "code",
   "execution_count": 8,
   "metadata": {
    "collapsed": false
   },
   "outputs": [
    {
     "name": "stdout",
     "output_type": "stream",
     "text": [
      "0\n"
     ]
    }
   ],
   "source": [
    "list_key=critics[1].keys()\n",
    "\n",
    "count = 0            \n",
    "for i,crt in enumerate(critics):\n",
    "    try:\n",
    "        if(list_key != crt.keys()):\n",
    "            count += 1\n",
    "            print i,crt\n",
    "    except AttributeError:\n",
    "        count=count\n",
    "        print i,crt\n",
    "\n",
    "print count"
   ]
  },
  {
   "cell_type": "code",
   "execution_count": 9,
   "metadata": {
    "collapsed": false
   },
   "outputs": [],
   "source": [
    "# Creating Genre list\n",
    "\n",
    "genre_list = []\n",
    "\n",
    "for crt in critics:\n",
    "    try:\n",
    "        for i in crt['genre']:\n",
    "            genre_list.append(i)\n",
    "    except KeyError:\n",
    "        print \"Key Error\""
   ]
  },
  {
   "cell_type": "code",
   "execution_count": 10,
   "metadata": {
    "collapsed": false
   },
   "outputs": [
    {
     "data": {
      "text/plain": [
       "12838"
      ]
     },
     "execution_count": 10,
     "metadata": {},
     "output_type": "execute_result"
    }
   ],
   "source": [
    "len(genre_list)"
   ]
  },
  {
   "cell_type": "code",
   "execution_count": 11,
   "metadata": {
    "collapsed": true
   },
   "outputs": [],
   "source": [
    "# Finding unique genre\n",
    "\n",
    "unique_genre = set(genre_list)"
   ]
  },
  {
   "cell_type": "code",
   "execution_count": 12,
   "metadata": {
    "collapsed": false
   },
   "outputs": [
    {
     "data": {
      "text/plain": [
       "25"
      ]
     },
     "execution_count": 12,
     "metadata": {},
     "output_type": "execute_result"
    }
   ],
   "source": [
    "len(unique_genre)"
   ]
  },
  {
   "cell_type": "code",
   "execution_count": 13,
   "metadata": {
    "collapsed": false
   },
   "outputs": [],
   "source": [
    "# Creating dummy variables for each reviews ofr user as well as critic\n",
    "# Also, addded percentage columns\n",
    "\n",
    "for i,crt in enumerate(critics):\n",
    "    try:\n",
    "        crt['critic_positive'] = crt['num_critic_reviews'][0]\n",
    "        crt['critic_netural'] = crt['num_critic_reviews'][1]\n",
    "        crt['critic_negative'] = crt['num_critic_reviews'][2]\n",
    "        crt['critic_total'] = crt['num_critic_reviews'][3]\n",
    "        \n",
    "        crt['user_positive'] = crt['num_user_reviews'][0]\n",
    "        crt['user_netural'] = crt['num_user_reviews'][1]\n",
    "        crt['user_negative'] = crt['num_user_reviews'][2]\n",
    "        crt['user_total'] = crt['num_user_reviews'][3]\n",
    "\n",
    "        if crt['num_critic_reviews'][3] !=0:\n",
    "            crt['critic_positive_pct'] = float(crt['num_critic_reviews'][0])/crt['num_critic_reviews'][3]\n",
    "            crt['critic_netural_pct'] = float(crt['num_critic_reviews'][1])/crt['num_critic_reviews'][3]\n",
    "            crt['critic_negative_pct'] = float(crt['num_critic_reviews'][2])/crt['num_critic_reviews'][3]\n",
    "        else:\n",
    "            crt['critic_positive_pct'] = 0.0\n",
    "            crt['critic_netural_pct'] = 0.0\n",
    "            crt['critic_negative_pct'] = 0.0\n",
    "            \n",
    "        if crt['num_user_reviews'][3] !=0:\n",
    "            crt['user_positive_pct'] = float(crt['num_user_reviews'][0])/crt['num_user_reviews'][3]\n",
    "            crt['user_netural_pct'] = float(crt['num_user_reviews'][1])/crt['num_user_reviews'][3]\n",
    "            crt['user_negative_pct'] = float(crt['num_user_reviews'][2])/crt['num_user_reviews'][3]\n",
    "        else:\n",
    "            crt['user_positive_pct'] = 0.0\n",
    "            crt['user_netural_pct'] = 0.0\n",
    "            crt['user_negative_pct'] = 0.0    \n",
    "    \n",
    "    except KeyError:\n",
    "        print i,\"Key Error\""
   ]
  },
  {
   "cell_type": "code",
   "execution_count": 14,
   "metadata": {
    "collapsed": false
   },
   "outputs": [],
   "source": [
    "# Adding columns for each genre and making it 1 if the movie belongs to that genre\n",
    "\n",
    "for i,crt in enumerate(critics):\n",
    "    try:\n",
    "        for gr in unique_genre:\n",
    "            if gr in crt['genre']:\n",
    "                crt[gr]=1\n",
    "            else:\n",
    "                crt[gr]=0\n",
    "    except KeyError:\n",
    "        print \"Key Error\"\n",
    "            "
   ]
  },
  {
   "cell_type": "code",
   "execution_count": 15,
   "metadata": {
    "collapsed": true
   },
   "outputs": [],
   "source": [
    "critics_df=pd.DataFrame(critics)"
   ]
  },
  {
   "cell_type": "code",
   "execution_count": 16,
   "metadata": {
    "collapsed": false,
    "scrolled": false
   },
   "outputs": [
    {
     "data": {
      "text/plain": [
       "(4763, 54)"
      ]
     },
     "execution_count": 16,
     "metadata": {},
     "output_type": "execute_result"
    }
   ],
   "source": [
    "critics_df.shape"
   ]
  },
  {
   "cell_type": "code",
   "execution_count": 17,
   "metadata": {
    "collapsed": false
   },
   "outputs": [],
   "source": [
    "# Creating cleaned title with only character and number\n",
    "\n",
    "movies_df['cleaned_title'] = movies_df['title'].str.lower()\n",
    "movies_df['cleaned_title'] = movies_df['cleaned_title'].str.replace(\"\\W\",'')\n",
    "\n",
    "critics_df['cleaned_title'] = critics_df['title'].str.lower()\n",
    "critics_df['cleaned_title'] = critics_df['cleaned_title'].str.replace(\"\\W\",'')"
   ]
  },
  {
   "cell_type": "code",
   "execution_count": 18,
   "metadata": {
    "collapsed": false
   },
   "outputs": [],
   "source": [
    "# Joining both the data on cleaned title\n",
    "\n",
    "movie_critics_df = pd.merge(movies_df, critics_df, on='cleaned_title', how='inner')"
   ]
  },
  {
   "cell_type": "code",
   "execution_count": 19,
   "metadata": {
    "collapsed": false
   },
   "outputs": [
    {
     "data": {
      "text/plain": [
       "(3513, 68)"
      ]
     },
     "execution_count": 19,
     "metadata": {},
     "output_type": "execute_result"
    }
   ],
   "source": [
    "movie_critics_df.shape"
   ]
  },
  {
   "cell_type": "code",
   "execution_count": 20,
   "metadata": {
    "collapsed": false
   },
   "outputs": [
    {
     "data": {
      "text/plain": [
       "242"
      ]
     },
     "execution_count": 20,
     "metadata": {},
     "output_type": "execute_result"
    }
   ],
   "source": [
    "# Mismatch data from movies_df\n",
    "\n",
    "len(movies_df[~movies_df.cleaned_title.isin(movie_critics_df.cleaned_title)])"
   ]
  },
  {
   "cell_type": "code",
   "execution_count": null,
   "metadata": {
    "collapsed": true
   },
   "outputs": [],
   "source": []
  }
 ],
 "metadata": {
  "kernelspec": {
   "display_name": "Python 2",
   "language": "python",
   "name": "python2"
  },
  "language_info": {
   "codemirror_mode": {
    "name": "ipython",
    "version": 2
   },
   "file_extension": ".py",
   "mimetype": "text/x-python",
   "name": "python",
   "nbconvert_exporter": "python",
   "pygments_lexer": "ipython2",
   "version": "2.7.11"
  }
 },
 "nbformat": 4,
 "nbformat_minor": 0
}
