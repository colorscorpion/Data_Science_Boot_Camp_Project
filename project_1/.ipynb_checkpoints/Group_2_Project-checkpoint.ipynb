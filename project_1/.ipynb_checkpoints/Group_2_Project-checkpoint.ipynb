{
 "cells": [
  {
   "cell_type": "markdown",
   "metadata": {},
   "source": [
    "## Group 2 Project"
   ]
  },
  {
   "cell_type": "markdown",
   "metadata": {},
   "source": [
    "Objective:\n",
    "* Identify profitable movies in the future for investing (genre - seasonality, director, studio, etc.)\n",
    "* Identify profitable current movies for distributing rights (genre, director, studio, etc.)\n",
    "\n",
    "Topics of interests:\n",
    "\n",
    "* Genre trend by time\n",
    "* Top directors performance by time\n",
    "* Top studio performance by time\n",
    "* Domestic vs. international gross\n",
    "* Correlation analysis between critics and director, and gross, etc."
   ]
  }
 ],
 "metadata": {
  "kernelspec": {
   "display_name": "Python 2",
   "language": "python",
   "name": "python2"
  },
  "language_info": {
   "codemirror_mode": {
    "name": "ipython",
    "version": 2
   },
   "file_extension": ".py",
   "mimetype": "text/x-python",
   "name": "python",
   "nbconvert_exporter": "python",
   "pygments_lexer": "ipython2",
   "version": "2.7.11"
  }
 },
 "nbformat": 4,
 "nbformat_minor": 0
}
